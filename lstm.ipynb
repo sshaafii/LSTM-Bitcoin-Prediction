{
 "cells": [
  {
   "cell_type": "markdown",
   "id": "bbb900f3",
   "metadata": {
    "id": "bbb900f3"
   },
   "source": [
    "# Applied AI – Coursework (2022/23)"
   ]
  },
  {
   "cell_type": "markdown",
   "id": "8db1ac87",
   "metadata": {
    "id": "8db1ac87"
   },
   "source": [
    "## Part A – Application area review. AlgoTrading"
   ]
  },
  {
   "cell_type": "markdown",
   "id": "86a6d5cc",
   "metadata": {
    "id": "86a6d5cc"
   },
   "source": [
    "\n",
    "Between 1992 and 2015, Fischer and Krauss applied LSTM networks to the classification issue of forecasting directional movements for the stocks that make up the S&P 500. [Fischer & Krauss, 2018](https://reader.elsevier.com/reader/sd/pii/S0377221717310652?token=D70F7F2EAFA93052F76276D365CB6A3B640BAFFF7932D1AD0D45293BB8472A30ED8A38F5AE3A5BD1F9BDF597D799E683&originRegion=eu-west-1&originCreation=20221128134529). The authors came to the conclusion that the financial time series data could be effectively processed by the LSTM network to produce meaningful information.\n",
    "\n",
    "To predict the stock price, Yu and Yan combined the LSTM model with the phase-space recon-struction method for time series analysis [Yu & Yan, 2019](https://ift.onlinelibrary.wiley.com/doi/10.1111/1750-3841.14609). The analysis took into account a number of market environments, including the S&P 500, DJIA, Nikkei 225, Hang Seng Index, China Securities Index 300, and ChiNext index. This forecasting model was created using only historical prices. We compared the results of the LSTM with Multilayer Perceptron, Support Vector Regressor, and ARIMA. For S&P 500 data, authors claimed that the LSTM model outperformed competing models.\n",
    "\n",
    "In order to predict the closing price, Yadav et al. applied an LSTM model with a number of hidden layers to data from the Indian stock market [Yadav, Jha, & Sharan, 2020](https://www.sciencedirect.com/science/article/pii/S1877050920307237). They found that the single layer LSTM model provided more accurate predictions.\n",
    "\n",
    "\n",
    "For the prediction of stock price indices, [Trafalis and Ince](https://ieeexplore.ieee.org/document/859420)  contrasted SVR with more conventional neural network architectures, such as feed-forward multilayer perceptrons using back propagation and radial basis functions. The authors demonstrated the SVR's superior performance over the other NN-based applications for a very tiny temporal window of three samples and a very small prediction horizon of one sample using the insensitive loss function and a variety of quadratic optimization strategies.\n",
    "\n",
    "The S&P 500 and many foreign bond indices were among the five financial time series sources [Tay and Cao](https://www.sciencedirect.com/science/article/pii/S0305048301000263) looked at to see how SVR may be used to forecast data from. The outputs were compared with a feed-forward MLP employing back propagation with a five-sample prediction horizon (days). After the data had been \"pre-processed\" using an exponential moving-average window, outliers (defined as data beyond two standard deviations) were swapped out for values that were more closely spaced. A training set, a validation set, and a test set of the data were constructed (typical for neural network training methodologies). The SVR considerably outperformed back propagated neural networks.\n",
    "\n",
    "[Abraham et al.](https://arxiv.org/pdf/cs/0405018.pdf) compared the Takagi-Sugeno neurofuzzy model, a Difference Boosting Neural Network, the Levenberg-Marquardt algorithm, and SVM's one-step ahead time series prediction performance . SVM for classification applications was just briefly described. The SVM fared slightly better for one step forward prediction of the Nasdaq-l00 index and the NIFTY index.\n",
    "\n",
    "OIn order to predict the price of gold, [Ongsritrakul and Soonthronphisaj](https://ieeexplore.ieee.org/document/1223955) combined MLPs, decision trees, and SVRs. In order to predict the price of gold, a linear regression model, an MLP, and an SVR are all used as inputs. The decision tree provides \"factors\" to the SVR time series prediction process. The three models' MSE, MAD, and MAPE results were computed, and it appears that the SVR performs better than the other two models.\n",
    "\n",
    "\n",
    "The Artificial neural network model turned out to be effective in predicting the Japanese stock price, and contributed to an excessive\n",
    "investment return [Kimoto et al., 1990](http://web.ist.utl.pt/~adriano.simoes/tese/referencias/Papers%20-%20Adriano/NN.pdf)\n",
    "\n",
    "The Taiwan Weighted Index and the S&P 500 in the United States were studied, and [Lin and Yu (2008)](https://ieeexplore.ieee.org/stamp/stamp.jsp?tp=&arnumber=5692701) converted the Artificial Neural Network predictions into a straightforward trading strategy versus a straightforward buy-hold strategy. As a result, they discovered that the trading rule based on ANN generated higher returns than the buy-hold strategy.\n",
    "\n",
    "Feed-forward neural networks were employed by [Gupta and Wang (2010)](https://personal.ntu.edu.sg/elpwang/PDF_web/2011_Gupta_final.pdf) to forecast and trade the future index prices of the Standard and Poor's 500. (S&P 500). In this study, the impact of training the network using the most recent data along with gradually subsampled historical index data has been examined. They also looked at how prior NASDAQ 100 data affected forecasts of the S&P 500. Using a daily trading method, the directional efficiency and return rate for various time periods have been calculated by buying and selling in accordance with the forecasted prices. Compared to past work, they were able to get returns that were considerably higher.\n"
   ]
  },
  {
   "cell_type": "markdown",
   "id": "a0706ad4",
   "metadata": {
    "id": "a0706ad4"
   },
   "source": [
    "## PART B Compare and evaluate three AI techniques."
   ]
  },
  {
   "cell_type": "markdown",
   "id": "a6b95e95",
   "metadata": {
    "id": "a6b95e95"
   },
   "source": [
    "### LSTM"
   ]
  },
  {
   "cell_type": "markdown",
   "id": "45a65a98",
   "metadata": {
    "id": "45a65a98"
   },
   "source": [
    "Long short-term memory (LSTM) is a type of artificial neural network that is well-suited for predicting stock prices because it can retain long-term dependencies in data. This is important because stock prices can be influenced by many factors that may not be immediately apparent, and the LSTM is able to take into account these long-term dependencies when making predictions.\n",
    "\n",
    "LSTMs help preserve the error that can be backpropagated through time and layers, without risk of losing important information: LSTMs have internal mechanisms called gates and cell state that can regulate the flow of information. The cell makes decisions about what, how much, and when to store and release information: they learn when to allow information to enter, leave, or be deleted through the iterative process of making guesses, backpropagating error, and adjusting weights via gradient descent.\n",
    "\n",
    "To use an LSTM to predict stock prices, you would need to gather historical data on the stock, including information such as the stock's price, trading volume, and any relevant news articles or economic indicators. This data would then be used to train the LSTM model, which would learn to predict the stock's future price based on this historical data.\n",
    "\n",
    "LSTM networks can be difficult to design and train, and require careful tuning of their hyperparameters and architectures to achieve good performance.\n",
    "\n",
    "LSTM networks can be computationally expensive to train and run, which can make them impractical for some applications or use cases.Setting up and training an LSTM to predict stock prices can be time-consuming, as it requires a significant amount of data and computing power. The process can take anywhere from a few hours to several days, depending on the complexity of the model and the amount of data being used. \n",
    "\n",
    "Once the LSTM model is trained, it can be used to make predictions on new data (such as the current price of the stock and any current news articles or economic indicators). The output of the model will be a prediction of the stock's future price, which can be used to inform investment decisions..\n"
   ]
  },
  {
   "cell_type": "markdown",
   "id": "ba81ee29",
   "metadata": {
    "id": "ba81ee29"
   },
   "source": [
    "### Artificial Feedfoward Neural Networks "
   ]
  },
  {
   "cell_type": "markdown",
   "id": "af0742a9",
   "metadata": {
    "id": "af0742a9"
   },
   "source": [
    "The neural structure of the brain, which essentially learns from experience, is the basis for Artificial Neural Networks, which resemble electronic models of the brain. The most basic type of neural network is a single-layer perceptron network, which has a single layer of output nodes and feeds its inputs directly to its outputs using a set of weights. It is the most basic form of feed-forward network in this sense. Multiple layers of computational units connected in a feed-forward manner make up a multilayer neural network. There are direct connections between each neuron in one layer and each neuron in the layer above it. A sigmoid function is frequently used by these networks' units as an activation function.\n",
    "\n",
    "The data that is collected within a specific time period like daily, hourly, monthly or annually is known as time\n",
    "series data. It appears in many different areas like physical time series, economic time series and marketing and sales time series. From statistical to artificial intelligence, there is a range of neural network techniques which have been used to handle a time series problem. Neural networks (NNs) have appeared as an effective tool for forecasting of time series. The most commonly used parameters are daily opening, high, low and close prices. Also used often are technical indicators which are mathematical transformations of lagged index data. \n",
    "\n",
    "Feedforward Neural Networks (FNNs) are mostly used in many time series forecasting applications broadly. FNN model is a network that has no recurrent link which means the signals can pass in one direction only. The data is passed from the input layer to further process. Every processing elements produce its computation depends on the weighted sum of its inputs. The calculated values become the input values for the next layer and this process continues until the output generated. Furthermore, FNN was the first and might be the simplest type of ANN\n",
    "\n",
    "\n",
    "\n",
    "On the other hand, ANN has some drawbacks also like excessive training time, implementation cost, less efficiency and accuracy.The problems faced centre on the many parameters associated with the design of a neural network application. These can range from the topology, the learning method, the choice of activation function, the number of training cycles, and even the scaling, and pre-treatment of data, all of which directly affect the likelihood of the network finding a good solution.\n",
    "\n",
    "The historical price is used as inputs to the network. The inputs to the neural network are basically the delayed coordinates of the time series. The number of inputs to the network is 4 and they are the 4 consecutive daily returns. The output is the prediction of the return for the next step ahead."
   ]
  },
  {
   "cell_type": "markdown",
   "id": "f5291eac",
   "metadata": {},
   "source": [
    "## Support Vector Machines\n",
    "\n",
    "The SVM, which originated as an implementation of Vapnik’s Structural Risk Minimization (SRM) principle (Vapnik, 1995), is now being used to solve a variety of learning, classification and prediction problems. Support Vector Machines are one of the best binary classifiers. They create a decision boundary such that most points in one category fall on one side of the boundary while most points in the other category fall on the other side of the boundary. \n",
    "\n",
    "SVMs have originally been used for classification purposes but their principles can be extended easily to the task of regression and time series prediction.SVM creates a boundary and the data points on either side of the boundary labeled differently (Keerthi et al., 2005).The boundary in the multidimensional case called a hyperplane. The most critical elements in this technique are the data points closest to the hyperplane. \n",
    "\n",
    "Some disadvantages of support vector machines are that it is diffucult to select a kernel function,Large data sets require a long training time and need computational power which can be expensive.\n",
    "\n",
    "The SVM is more than just another algorithm. It has the following advantages over an Artificial Neural Network:\n",
    "1. it can obtain the global optimum\n",
    "2. the overfitting problem can be easily controlled and\n",
    "3. empirical testing has shown that the performance of SVMs is better than ANNs in classification and in regression.\n",
    "\n",
    "The support vector machine model can take different inputs like time series data both univariate and multivariate. The historical data can be obtained from financial data providers like yahoo for free."
   ]
  },
  {
   "cell_type": "markdown",
   "id": "8f4f670c",
   "metadata": {},
   "source": [
    "## Diagram \n",
    "![image info](./download.png)"
   ]
  },
  {
   "cell_type": "markdown",
   "id": "50a3b3a4",
   "metadata": {
    "id": "67bd8586"
   },
   "source": [
    "# Univariate Time Series forecast using LSTM\n",
    "\n",
    "### We will be predicting the close price for the next hour."
   ]
  },
  {
   "cell_type": "code",
   "execution_count": 1,
   "id": "91ab05c0",
   "metadata": {
    "id": "91ab05c0"
   },
   "outputs": [],
   "source": [
    "\n",
    "import os\n",
    "import numpy as np\n",
    "import matplotlib.pyplot as plt\n",
    "import pandas as pd\n",
    "from pandas import DataFrame, Series\n",
    "from sklearn.preprocessing import MinMaxScaler\n",
    "\n"
   ]
  },
  {
   "cell_type": "markdown",
   "id": "16a37748",
   "metadata": {
    "id": "16a37748"
   },
   "source": [
    "## Loading data "
   ]
  },
  {
   "cell_type": "code",
   "execution_count": 2,
   "id": "2dbdf8f5",
   "metadata": {
    "id": "2dbdf8f5"
   },
   "outputs": [],
   "source": [
    "df = DataFrame()\n",
    "\n",
    "df = pd.read_csv('Bitfinex_BTCUSD_1h.csv')"
   ]
  },
  {
   "cell_type": "code",
   "execution_count": 3,
   "id": "b125d1ee",
   "metadata": {
    "colab": {
     "base_uri": "https://localhost:8080/"
    },
    "id": "b125d1ee",
    "outputId": "9d83a2c2-f558-462d-b695-361eac960285"
   },
   "outputs": [
    {
     "name": "stdout",
     "output_type": "stream",
     "text": [
      "<class 'pandas.core.frame.DataFrame'>\n",
      "RangeIndex: 40258 entries, 0 to 40257\n",
      "Data columns (total 9 columns):\n",
      " #   Column      Non-Null Count  Dtype  \n",
      "---  ------      --------------  -----  \n",
      " 0   unix        40258 non-null  int64  \n",
      " 1   date        40258 non-null  object \n",
      " 2   symbol      40258 non-null  object \n",
      " 3   open        40258 non-null  float64\n",
      " 4   high        40258 non-null  float64\n",
      " 5   low         40258 non-null  float64\n",
      " 6   close       40258 non-null  float64\n",
      " 7   Volume USD  40258 non-null  float64\n",
      " 8   Volume BTC  40258 non-null  float64\n",
      "dtypes: float64(6), int64(1), object(2)\n",
      "memory usage: 2.8+ MB\n"
     ]
    }
   ],
   "source": [
    "#Lets look at the data\n",
    "df.info()"
   ]
  },
  {
   "cell_type": "code",
   "execution_count": 4,
   "id": "83eb3215",
   "metadata": {
    "colab": {
     "base_uri": "https://localhost:8080/",
     "height": 206
    },
    "id": "83eb3215",
    "outputId": "3eefd396-4eec-4cb1-f8a2-e9b942935ef9"
   },
   "outputs": [
    {
     "data": {
      "text/html": [
       "<div>\n",
       "<style scoped>\n",
       "    .dataframe tbody tr th:only-of-type {\n",
       "        vertical-align: middle;\n",
       "    }\n",
       "\n",
       "    .dataframe tbody tr th {\n",
       "        vertical-align: top;\n",
       "    }\n",
       "\n",
       "    .dataframe thead th {\n",
       "        text-align: right;\n",
       "    }\n",
       "</style>\n",
       "<table border=\"1\" class=\"dataframe\">\n",
       "  <thead>\n",
       "    <tr style=\"text-align: right;\">\n",
       "      <th></th>\n",
       "      <th>unix</th>\n",
       "      <th>date</th>\n",
       "      <th>symbol</th>\n",
       "      <th>open</th>\n",
       "      <th>high</th>\n",
       "      <th>low</th>\n",
       "      <th>close</th>\n",
       "      <th>Volume USD</th>\n",
       "      <th>Volume BTC</th>\n",
       "    </tr>\n",
       "  </thead>\n",
       "  <tbody>\n",
       "    <tr>\n",
       "      <th>0</th>\n",
       "      <td>1671321600000</td>\n",
       "      <td>2022-12-18 00:00:00</td>\n",
       "      <td>BTC/USD</td>\n",
       "      <td>16794.0</td>\n",
       "      <td>16796.0</td>\n",
       "      <td>16742.0</td>\n",
       "      <td>16756.0</td>\n",
       "      <td>211666.341422</td>\n",
       "      <td>12.632272</td>\n",
       "    </tr>\n",
       "    <tr>\n",
       "      <th>1</th>\n",
       "      <td>1671318000000</td>\n",
       "      <td>2022-12-17 23:00:00</td>\n",
       "      <td>BTC/USD</td>\n",
       "      <td>16755.0</td>\n",
       "      <td>16811.0</td>\n",
       "      <td>16747.0</td>\n",
       "      <td>16793.0</td>\n",
       "      <td>534745.223398</td>\n",
       "      <td>31.843341</td>\n",
       "    </tr>\n",
       "    <tr>\n",
       "      <th>2</th>\n",
       "      <td>1671314400000</td>\n",
       "      <td>2022-12-17 22:00:00</td>\n",
       "      <td>BTC/USD</td>\n",
       "      <td>16729.0</td>\n",
       "      <td>16777.0</td>\n",
       "      <td>16725.0</td>\n",
       "      <td>16755.0</td>\n",
       "      <td>527685.435437</td>\n",
       "      <td>31.494207</td>\n",
       "    </tr>\n",
       "    <tr>\n",
       "      <th>3</th>\n",
       "      <td>1671310800000</td>\n",
       "      <td>2022-12-17 21:00:00</td>\n",
       "      <td>BTC/USD</td>\n",
       "      <td>16715.0</td>\n",
       "      <td>16747.0</td>\n",
       "      <td>16715.0</td>\n",
       "      <td>16729.0</td>\n",
       "      <td>425735.691990</td>\n",
       "      <td>25.448962</td>\n",
       "    </tr>\n",
       "    <tr>\n",
       "      <th>4</th>\n",
       "      <td>1671307200000</td>\n",
       "      <td>2022-12-17 20:00:00</td>\n",
       "      <td>BTC/USD</td>\n",
       "      <td>16711.0</td>\n",
       "      <td>16722.0</td>\n",
       "      <td>16709.0</td>\n",
       "      <td>16715.0</td>\n",
       "      <td>71434.015455</td>\n",
       "      <td>4.273647</td>\n",
       "    </tr>\n",
       "  </tbody>\n",
       "</table>\n",
       "</div>"
      ],
      "text/plain": [
       "            unix                 date   symbol     open     high      low  \\\n",
       "0  1671321600000  2022-12-18 00:00:00  BTC/USD  16794.0  16796.0  16742.0   \n",
       "1  1671318000000  2022-12-17 23:00:00  BTC/USD  16755.0  16811.0  16747.0   \n",
       "2  1671314400000  2022-12-17 22:00:00  BTC/USD  16729.0  16777.0  16725.0   \n",
       "3  1671310800000  2022-12-17 21:00:00  BTC/USD  16715.0  16747.0  16715.0   \n",
       "4  1671307200000  2022-12-17 20:00:00  BTC/USD  16711.0  16722.0  16709.0   \n",
       "\n",
       "     close     Volume USD  Volume BTC  \n",
       "0  16756.0  211666.341422   12.632272  \n",
       "1  16793.0  534745.223398   31.843341  \n",
       "2  16755.0  527685.435437   31.494207  \n",
       "3  16729.0  425735.691990   25.448962  \n",
       "4  16715.0   71434.015455    4.273647  "
      ]
     },
     "execution_count": 4,
     "metadata": {},
     "output_type": "execute_result"
    }
   ],
   "source": [
    "df.head()"
   ]
  },
  {
   "cell_type": "markdown",
   "id": "314c4d98",
   "metadata": {
    "id": "314c4d98"
   },
   "source": [
    "This dataset contains 8 different variables. To do our univariate time series forecast we will use only one variable which is the hourly close price of bitcoin.\n",
    "\n",
    "## Data pre-processing"
   ]
  },
  {
   "cell_type": "code",
   "execution_count": 5,
   "id": "ea259ff7",
   "metadata": {
    "id": "ea259ff7"
   },
   "outputs": [],
   "source": [
    "df_btc = df[['date','close']]"
   ]
  },
  {
   "cell_type": "code",
   "execution_count": 6,
   "id": "039c7dac",
   "metadata": {
    "colab": {
     "base_uri": "https://localhost:8080/"
    },
    "id": "039c7dac",
    "outputId": "cc5bf5ab-3be4-4289-fe6c-1e10272a6d8a"
   },
   "outputs": [
    {
     "name": "stdout",
     "output_type": "stream",
     "text": [
      "<class 'pandas.core.frame.DataFrame'>\n",
      "RangeIndex: 40258 entries, 0 to 40257\n",
      "Data columns (total 2 columns):\n",
      " #   Column  Non-Null Count  Dtype  \n",
      "---  ------  --------------  -----  \n",
      " 0   date    40258 non-null  object \n",
      " 1   close   40258 non-null  float64\n",
      "dtypes: float64(1), object(1)\n",
      "memory usage: 629.2+ KB\n"
     ]
    }
   ],
   "source": [
    "df_btc.info()\n"
   ]
  },
  {
   "cell_type": "code",
   "execution_count": 7,
   "id": "fcbb32c2",
   "metadata": {
    "colab": {
     "base_uri": "https://localhost:8080/"
    },
    "id": "fcbb32c2",
    "outputId": "6d4b8753-b703-4388-dd42-ef91b5dba6aa"
   },
   "outputs": [
    {
     "data": {
      "text/plain": [
       "date     0\n",
       "close    0\n",
       "dtype: int64"
      ]
     },
     "execution_count": 7,
     "metadata": {},
     "output_type": "execute_result"
    }
   ],
   "source": [
    "df_btc.isnull().sum()"
   ]
  },
  {
   "cell_type": "markdown",
   "id": "226c8abb",
   "metadata": {
    "id": "226c8abb"
   },
   "source": [
    "We checked for null values and out data has 0 missing values."
   ]
  },
  {
   "cell_type": "code",
   "execution_count": 8,
   "id": "e7c8e5bc",
   "metadata": {
    "id": "e7c8e5bc"
   },
   "outputs": [],
   "source": [
    "df_btc.index = df_btc.pop('date')\n"
   ]
  },
  {
   "cell_type": "code",
   "execution_count": 9,
   "id": "fe9b346e",
   "metadata": {
    "colab": {
     "base_uri": "https://localhost:8080/",
     "height": 455
    },
    "id": "fe9b346e",
    "outputId": "e8acfbc8-a660-4c6a-97f2-dc80a9207fed"
   },
   "outputs": [
    {
     "data": {
      "text/html": [
       "<div>\n",
       "<style scoped>\n",
       "    .dataframe tbody tr th:only-of-type {\n",
       "        vertical-align: middle;\n",
       "    }\n",
       "\n",
       "    .dataframe tbody tr th {\n",
       "        vertical-align: top;\n",
       "    }\n",
       "\n",
       "    .dataframe thead th {\n",
       "        text-align: right;\n",
       "    }\n",
       "</style>\n",
       "<table border=\"1\" class=\"dataframe\">\n",
       "  <thead>\n",
       "    <tr style=\"text-align: right;\">\n",
       "      <th></th>\n",
       "      <th>close</th>\n",
       "    </tr>\n",
       "    <tr>\n",
       "      <th>date</th>\n",
       "      <th></th>\n",
       "    </tr>\n",
       "  </thead>\n",
       "  <tbody>\n",
       "    <tr>\n",
       "      <th>2022-12-18 00:00:00</th>\n",
       "      <td>16756.0</td>\n",
       "    </tr>\n",
       "    <tr>\n",
       "      <th>2022-12-17 23:00:00</th>\n",
       "      <td>16793.0</td>\n",
       "    </tr>\n",
       "    <tr>\n",
       "      <th>2022-12-17 22:00:00</th>\n",
       "      <td>16755.0</td>\n",
       "    </tr>\n",
       "    <tr>\n",
       "      <th>2022-12-17 21:00:00</th>\n",
       "      <td>16729.0</td>\n",
       "    </tr>\n",
       "    <tr>\n",
       "      <th>2022-12-17 20:00:00</th>\n",
       "      <td>16715.0</td>\n",
       "    </tr>\n",
       "    <tr>\n",
       "      <th>...</th>\n",
       "      <td>...</td>\n",
       "    </tr>\n",
       "    <tr>\n",
       "      <th>2018-05-15 10:00:00</th>\n",
       "      <td>8784.4</td>\n",
       "    </tr>\n",
       "    <tr>\n",
       "      <th>2018-05-15 09:00:00</th>\n",
       "      <td>8708.1</td>\n",
       "    </tr>\n",
       "    <tr>\n",
       "      <th>2018-05-15 08:00:00</th>\n",
       "      <td>8723.7</td>\n",
       "    </tr>\n",
       "    <tr>\n",
       "      <th>2018-05-15 07:00:00</th>\n",
       "      <td>8743.0</td>\n",
       "    </tr>\n",
       "    <tr>\n",
       "      <th>2018-05-15 06:00:00</th>\n",
       "      <td>8739.0</td>\n",
       "    </tr>\n",
       "  </tbody>\n",
       "</table>\n",
       "<p>40258 rows × 1 columns</p>\n",
       "</div>"
      ],
      "text/plain": [
       "                       close\n",
       "date                        \n",
       "2022-12-18 00:00:00  16756.0\n",
       "2022-12-17 23:00:00  16793.0\n",
       "2022-12-17 22:00:00  16755.0\n",
       "2022-12-17 21:00:00  16729.0\n",
       "2022-12-17 20:00:00  16715.0\n",
       "...                      ...\n",
       "2018-05-15 10:00:00   8784.4\n",
       "2018-05-15 09:00:00   8708.1\n",
       "2018-05-15 08:00:00   8723.7\n",
       "2018-05-15 07:00:00   8743.0\n",
       "2018-05-15 06:00:00   8739.0\n",
       "\n",
       "[40258 rows x 1 columns]"
      ]
     },
     "execution_count": 9,
     "metadata": {},
     "output_type": "execute_result"
    }
   ],
   "source": [
    "df_btc\n"
   ]
  },
  {
   "cell_type": "markdown",
   "id": "840899a0",
   "metadata": {
    "id": "840899a0"
   },
   "source": [
    "Now we will turn the date column into our index. and then sort them by ascending date."
   ]
  },
  {
   "cell_type": "code",
   "execution_count": 10,
   "id": "2d5bd31c",
   "metadata": {
    "id": "2d5bd31c"
   },
   "outputs": [],
   "source": [
    "df_btc=df_btc.sort_values(by='date',ascending=True)"
   ]
  },
  {
   "cell_type": "markdown",
   "id": "ff4cdf25",
   "metadata": {},
   "source": [
    "We sorted the close values by date. So the oldest data points are at the top and newest at the bottom."
   ]
  },
  {
   "cell_type": "code",
   "execution_count": 11,
   "id": "6d087196",
   "metadata": {
    "colab": {
     "base_uri": "https://localhost:8080/",
     "height": 455
    },
    "id": "6d087196",
    "outputId": "201365bb-db10-4fac-9ebc-5c71952b11f9"
   },
   "outputs": [
    {
     "data": {
      "text/html": [
       "<div>\n",
       "<style scoped>\n",
       "    .dataframe tbody tr th:only-of-type {\n",
       "        vertical-align: middle;\n",
       "    }\n",
       "\n",
       "    .dataframe tbody tr th {\n",
       "        vertical-align: top;\n",
       "    }\n",
       "\n",
       "    .dataframe thead th {\n",
       "        text-align: right;\n",
       "    }\n",
       "</style>\n",
       "<table border=\"1\" class=\"dataframe\">\n",
       "  <thead>\n",
       "    <tr style=\"text-align: right;\">\n",
       "      <th></th>\n",
       "      <th>close</th>\n",
       "    </tr>\n",
       "    <tr>\n",
       "      <th>date</th>\n",
       "      <th></th>\n",
       "    </tr>\n",
       "  </thead>\n",
       "  <tbody>\n",
       "    <tr>\n",
       "      <th>2018-05-15 06:00:00</th>\n",
       "      <td>8739.0</td>\n",
       "    </tr>\n",
       "    <tr>\n",
       "      <th>2018-05-15 07:00:00</th>\n",
       "      <td>8743.0</td>\n",
       "    </tr>\n",
       "    <tr>\n",
       "      <th>2018-05-15 08:00:00</th>\n",
       "      <td>8723.7</td>\n",
       "    </tr>\n",
       "    <tr>\n",
       "      <th>2018-05-15 09:00:00</th>\n",
       "      <td>8708.1</td>\n",
       "    </tr>\n",
       "    <tr>\n",
       "      <th>2018-05-15 10:00:00</th>\n",
       "      <td>8784.4</td>\n",
       "    </tr>\n",
       "    <tr>\n",
       "      <th>...</th>\n",
       "      <td>...</td>\n",
       "    </tr>\n",
       "    <tr>\n",
       "      <th>2022-12-17 20:00:00</th>\n",
       "      <td>16715.0</td>\n",
       "    </tr>\n",
       "    <tr>\n",
       "      <th>2022-12-17 21:00:00</th>\n",
       "      <td>16729.0</td>\n",
       "    </tr>\n",
       "    <tr>\n",
       "      <th>2022-12-17 22:00:00</th>\n",
       "      <td>16755.0</td>\n",
       "    </tr>\n",
       "    <tr>\n",
       "      <th>2022-12-17 23:00:00</th>\n",
       "      <td>16793.0</td>\n",
       "    </tr>\n",
       "    <tr>\n",
       "      <th>2022-12-18 00:00:00</th>\n",
       "      <td>16756.0</td>\n",
       "    </tr>\n",
       "  </tbody>\n",
       "</table>\n",
       "<p>40258 rows × 1 columns</p>\n",
       "</div>"
      ],
      "text/plain": [
       "                       close\n",
       "date                        \n",
       "2018-05-15 06:00:00   8739.0\n",
       "2018-05-15 07:00:00   8743.0\n",
       "2018-05-15 08:00:00   8723.7\n",
       "2018-05-15 09:00:00   8708.1\n",
       "2018-05-15 10:00:00   8784.4\n",
       "...                      ...\n",
       "2022-12-17 20:00:00  16715.0\n",
       "2022-12-17 21:00:00  16729.0\n",
       "2022-12-17 22:00:00  16755.0\n",
       "2022-12-17 23:00:00  16793.0\n",
       "2022-12-18 00:00:00  16756.0\n",
       "\n",
       "[40258 rows x 1 columns]"
      ]
     },
     "execution_count": 11,
     "metadata": {},
     "output_type": "execute_result"
    }
   ],
   "source": [
    "df_btc"
   ]
  },
  {
   "cell_type": "code",
   "execution_count": 12,
   "id": "5863603f",
   "metadata": {
    "colab": {
     "base_uri": "https://localhost:8080/",
     "height": 422
    },
    "id": "5863603f",
    "outputId": "8da0900e-acd4-4762-f496-8cc5aeecd5a9"
   },
   "outputs": [
    {
     "data": {
      "text/plain": [
       "<AxesSubplot:title={'center':'bitcoin close'}, xlabel='date'>"
      ]
     },
     "execution_count": 12,
     "metadata": {},
     "output_type": "execute_result"
    },
    {
     "data": {
      "image/png": "[encoded data removed]",
      "text/plain": [
       "<Figure size 2000x600 with 1 Axes>"
      ]
     },
     "metadata": {},
     "output_type": "display_data"
    }
   ],
   "source": [
    "plt.figure(figsize = (20, 6))\n",
    "df_btc['close'].plot(title='bitcoin close')"
   ]
  },
  {
   "cell_type": "markdown",
   "id": "ebce4bee",
   "metadata": {},
   "source": [
    "As you can see the above plot is out timeseries close prices."
   ]
  },
  {
   "cell_type": "code",
   "execution_count": 13,
   "id": "BEdezF7GJMZK",
   "metadata": {
    "id": "BEdezF7GJMZK"
   },
   "outputs": [],
   "source": [
    "from sklearn.preprocessing import MinMaxScaler\n",
    "scaler = MinMaxScaler(feature_range=(0,1))\n",
    "\n",
    "df_btc_scaled = scaler.fit_transform(df_btc)\n"
   ]
  },
  {
   "cell_type": "markdown",
   "id": "03a936a0",
   "metadata": {},
   "source": [
    "It is best practices to scale/normalize data before training it on a neural network which in this case will be an LSTM. Normalization is a rescaling of the data from the original range so that all values are within the range of 0 and 1."
   ]
  },
  {
   "cell_type": "code",
   "execution_count": 14,
   "id": "VEAOLOJbyq_7",
   "metadata": {
    "colab": {
     "base_uri": "https://localhost:8080/"
    },
    "id": "VEAOLOJbyq_7",
    "outputId": "2a5187e2-9008-41e3-9bf7-215c828235c5"
   },
   "outputs": [
    {
     "data": {
      "text/plain": [
       "array([[0.08427564],\n",
       "       [0.08433683],\n",
       "       [0.0840416 ],\n",
       "       ...,\n",
       "       [0.20689845],\n",
       "       [0.20747975],\n",
       "       [0.20691375]])"
      ]
     },
     "execution_count": 14,
     "metadata": {},
     "output_type": "execute_result"
    }
   ],
   "source": [
    "\n",
    "df_btc_scaled \n"
   ]
  },
  {
   "cell_type": "code",
   "execution_count": 15,
   "id": "xL65k5iBMyBi",
   "metadata": {
    "colab": {
     "base_uri": "https://localhost:8080/"
    },
    "id": "xL65k5iBMyBi",
    "outputId": "5bbd7ce5-2274-44b8-c8d8-cb07c4e75969"
   },
   "outputs": [
    {
     "name": "stdout",
     "output_type": "stream",
     "text": [
      "Train length:  32206\n"
     ]
    }
   ],
   "source": [
    "train_length = int(len(df_btc_scaled) * 0.8)\n",
    "print('Train length: ', train_length)\n",
    "\n"
   ]
  },
  {
   "cell_type": "code",
   "execution_count": 16,
   "id": "pQhGBa9hM1sq",
   "metadata": {
    "colab": {
     "base_uri": "https://localhost:8080/"
    },
    "id": "pQhGBa9hM1sq",
    "outputId": "100518d8-97a9-437a-f0bc-edd5a086e5f7"
   },
   "outputs": [
    {
     "name": "stdout",
     "output_type": "stream",
     "text": [
      "Shape of Train and Test data:  32206 8052\n"
     ]
    }
   ],
   "source": [
    "\n",
    "\n",
    "train_data, test_data = df_btc_scaled[:train_length], df_btc_scaled[train_length:]\n",
    "print('Shape of Train and Test data: ', len(train_data), len(test_data))"
   ]
  },
  {
   "cell_type": "markdown",
   "id": "9163a1c2",
   "metadata": {},
   "source": [
    "We have now split our data into train and test. 80% of the original dataset will be used for training whole the remaining 20% will be used to testing. "
   ]
  },
  {
   "cell_type": "code",
   "execution_count": 17,
   "id": "V8kmJNrZM6KW",
   "metadata": {
    "colab": {
     "base_uri": "https://localhost:8080/"
    },
    "id": "V8kmJNrZM6KW",
    "outputId": "f6fdfe3c-7f45-44b3-9b18-e973deedc927"
   },
   "outputs": [
    {
     "data": {
      "text/plain": [
       "array([[0.08427564],\n",
       "       [0.08433683],\n",
       "       [0.0840416 ],\n",
       "       ...,\n",
       "       [0.61189331],\n",
       "       [0.61186272],\n",
       "       [0.60964885]])"
      ]
     },
     "execution_count": 17,
     "metadata": {},
     "output_type": "execute_result"
    }
   ],
   "source": [
    "train_data"
   ]
  },
  {
   "cell_type": "code",
   "execution_count": 18,
   "id": "7dv6OOGiy2bF",
   "metadata": {
    "id": "7dv6OOGiy2bF"
   },
   "outputs": [],
   "source": [
    "def dataset_generator_lstm(dataset, look_back=5):\n",
    "     \n",
    "    dataX, dataY = [], []\n",
    "    \n",
    "    for i in range(len(dataset) - look_back):\n",
    "        window_size_x = dataset[i:(i + look_back), 0]\n",
    "        dataX.append(window_size_x)\n",
    "        dataY.append(dataset[i + look_back, 0]) # this is the label or actual y-value\n",
    "    return np.array(dataX), np.array(dataY)\n"
   ]
  },
  {
   "cell_type": "markdown",
   "id": "1cb9d17a",
   "metadata": {},
   "source": [
    "Above is the function for converting a timeseries into a supervised learning problem. This function will convert data into \"features\" and \"targets\".\n",
    "\n",
    "![image.png](https://builtin.com/sites/www.builtin.com/files/styles/ckeditor_optimize/public/inline-images/1_train-test-split_0.jpg)"
   ]
  },
  {
   "cell_type": "code",
   "execution_count": 19,
   "id": "BOaBgoUZy4Sh",
   "metadata": {
    "id": "BOaBgoUZy4Sh"
   },
   "outputs": [],
   "source": [
    "lookback = 7\n",
    "train_X, train_y = dataset_generator_lstm(train_data, lookback)\n",
    "test_X, test_y = dataset_generator_lstm(test_data, lookback)"
   ]
  },
  {
   "cell_type": "code",
   "execution_count": 20,
   "id": "XEyU3PeWy89A",
   "metadata": {
    "colab": {
     "base_uri": "https://localhost:8080/"
    },
    "id": "XEyU3PeWy89A",
    "outputId": "869b55f2-c9ec-4d86-f464-3f4bf38c7548"
   },
   "outputs": [
    {
     "name": "stdout",
     "output_type": "stream",
     "text": [
      "Shape of train_X and train_y:  (32199, 7) (32199,)\n",
      "Shape of test_X and test_y:  (8045, 7) (8045,)\n"
     ]
    }
   ],
   "source": [
    "print('Shape of train_X and train_y: ', train_X.shape, train_y.shape)\n",
    "print('Shape of test_X and test_y: ', test_X.shape, test_y.shape)"
   ]
  },
  {
   "cell_type": "markdown",
   "id": "a62c49bf",
   "metadata": {},
   "source": [
    "For this data to be used as an input in the LSTM model it will need to be reshaped.LSTM layers work on 3D data with the following structure (nb_sequence, nb_timestep, nb_feature).\n",
    "\n",
    "1. nb_sequence corresponds to the total number of sequences in your dataset. SO the length \n",
    "\n",
    "2. nb_timestep corresponds to the size of your sequences.The number of features. \n",
    "\n",
    "3. nb_feature corresponds to number of features describing each of your timesteps. The target which is 1 in this case."
   ]
  },
  {
   "cell_type": "code",
   "execution_count": 21,
   "id": "FwY231vxzAo-",
   "metadata": {
    "id": "FwY231vxzAo-"
   },
   "outputs": [],
   "source": [
    "train_X = train_X.reshape((train_X.shape[0], train_X.shape[1], 1))\n",
    "test_X = test_X.reshape((test_X.shape[0], test_X.shape[1], 1))"
   ]
  },
  {
   "cell_type": "code",
   "execution_count": 22,
   "id": "KHklzpwfzF8Z",
   "metadata": {
    "colab": {
     "base_uri": "https://localhost:8080/"
    },
    "id": "KHklzpwfzF8Z",
    "outputId": "9a38ef4c-d3f0-4299-d2a5-eefec0e420d3"
   },
   "outputs": [
    {
     "name": "stdout",
     "output_type": "stream",
     "text": [
      "Shape of train_X and train_y:  (32199, 7, 1) (32199,)\n",
      "Shape of test_X and test_y:  (8045, 7, 1) (8045,)\n"
     ]
    }
   ],
   "source": [
    "# New shape of train_X and test_X are :-\n",
    "print('Shape of train_X and train_y: ', train_X.shape, train_y.shape)\n",
    "print('Shape of test_X and test_y: ', test_X.shape, test_y.shape)"
   ]
  },
  {
   "cell_type": "markdown",
   "id": "d9338f0f",
   "metadata": {},
   "source": [
    "## Building the model "
   ]
  },
  {
   "cell_type": "code",
   "execution_count": 23,
   "id": "gjreQqq9zIA9",
   "metadata": {
    "id": "gjreQqq9zIA9"
   },
   "outputs": [
    {
     "name": "stderr",
     "output_type": "stream",
     "text": [
      "2023-01-11 12:41:02.807654: I tensorflow/core/platform/cpu_feature_guard.cc:193] This TensorFlow binary is optimized with oneAPI Deep Neural Network Library (oneDNN) to use the following CPU instructions in performance-critical operations:  SSE4.1 SSE4.2 AVX AVX2 FMA\n",
      "To enable them in other operations, rebuild TensorFlow with the appropriate compiler flags.\n"
     ]
    }
   ],
   "source": [
    "from keras.models import Sequential\n",
    "from keras.layers import LSTM, SimpleRNN\n",
    "from keras.layers import Dense"
   ]
  },
  {
   "cell_type": "code",
   "execution_count": 24,
   "id": "sNxi6MbCzKoz",
   "metadata": {
    "id": "sNxi6MbCzKoz"
   },
   "outputs": [
    {
     "name": "stderr",
     "output_type": "stream",
     "text": [
      "2023-01-11 12:41:03.800907: I tensorflow/core/platform/cpu_feature_guard.cc:193] This TensorFlow binary is optimized with oneAPI Deep Neural Network Library (oneDNN) to use the following CPU instructions in performance-critical operations:  SSE4.1 SSE4.2 AVX AVX2 FMA\n",
      "To enable them in other operations, rebuild TensorFlow with the appropriate compiler flags.\n",
      "2023-01-11 12:41:03.802381: I tensorflow/core/common_runtime/process_util.cc:146] Creating new thread pool with default inter op setting: 2. Tune using inter_op_parallelism_threads for best performance.\n"
     ]
    }
   ],
   "source": [
    "model = Sequential([\n",
    "    LSTM(60, return_sequences= True, input_shape= (7, 1)),\n",
    "    LSTM(120, return_sequences= False),\n",
    "    Dense(45),\n",
    "    Dense(15),\n",
    "    Dense(1)\n",
    "])\n",
    "\n",
    "model.compile(optimizer= 'adam', loss= 'mse' , metrics= ['accuracy'])"
   ]
  },
  {
   "cell_type": "code",
   "execution_count": 25,
   "id": "9TB_JZ54zNqs",
   "metadata": {
    "colab": {
     "base_uri": "https://localhost:8080/"
    },
    "id": "9TB_JZ54zNqs",
    "outputId": "cae9c76d-28bb-44f9-ae2c-446388681d50"
   },
   "outputs": [
    {
     "name": "stdout",
     "output_type": "stream",
     "text": [
      "Model: \"sequential\"\n",
      "_________________________________________________________________\n",
      " Layer (type)                Output Shape              Param #   \n",
      "=================================================================\n",
      " lstm (LSTM)                 (None, 7, 60)             14880     \n",
      "                                                                 \n",
      " lstm_1 (LSTM)               (None, 120)               86880     \n",
      "                                                                 \n",
      " dense (Dense)               (None, 45)                5445      \n",
      "                                                                 \n",
      " dense_1 (Dense)             (None, 15)                690       \n",
      "                                                                 \n",
      " dense_2 (Dense)             (None, 1)                 16        \n",
      "                                                                 \n",
      "=================================================================\n",
      "Total params: 107,911\n",
      "Trainable params: 107,911\n",
      "Non-trainable params: 0\n",
      "_________________________________________________________________\n"
     ]
    }
   ],
   "source": [
    "model.summary()"
   ]
  },
  {
   "cell_type": "code",
   "execution_count": 26,
   "id": "cflmJXiCzPo0",
   "metadata": {
    "colab": {
     "base_uri": "https://localhost:8080/"
    },
    "id": "cflmJXiCzPo0",
    "outputId": "eabe6af0-a3bf-4078-f330-880baa13140b"
   },
   "outputs": [
    {
     "name": "stdout",
     "output_type": "stream",
     "text": [
      "1007/1007 [==============================] - 36s 33ms/step - loss: 6.5956e-04 - accuracy: 6.2114e-05 - val_loss: 3.1357e-05 - val_accuracy: 0.0000e+00\n"
     ]
    }
   ],
   "source": [
    "history = model.fit(train_X , train_y, epochs= 30, batch_size= 32,validation_data=(test_X,test_y))"
   ]
  },
  {
   "cell_type": "markdown",
   "id": "3777df81",
   "metadata": {},
   "source": [
    "## Testing "
   ]
  },
  {
   "cell_type": "code",
   "execution_count": 27,
   "id": "yQ_J0MxUzS4b",
   "metadata": {
    "colab": {
     "base_uri": "https://localhost:8080/"
    },
    "id": "yQ_J0MxUzS4b",
    "outputId": "6df0c525-385d-4d35-f016-b1508db347de"
   },
   "outputs": [
    {
     "name": "stdout",
     "output_type": "stream",
     "text": [
      "252/252 [==============================] - 3s 8ms/step\n"
     ]
    },
    {
     "data": {
      "text/plain": [
       "array([[0.60913   ],\n",
       "       [0.6098661 ],\n",
       "       [0.6105668 ],\n",
       "       ...,\n",
       "       [0.20476453],\n",
       "       [0.20483926],\n",
       "       [0.20499644]], dtype=float32)"
      ]
     },
     "execution_count": 27,
     "metadata": {},
     "output_type": "execute_result"
    }
   ],
   "source": [
    "predictions = model.predict(test_X)\n",
    "predictions"
   ]
  },
  {
   "cell_type": "code",
   "execution_count": 28,
   "id": "ls7QGrdeQqrE",
   "metadata": {
    "colab": {
     "base_uri": "https://localhost:8080/"
    },
    "id": "ls7QGrdeQqrE",
    "outputId": "8af8c452-e268-431e-d231-389f2a28c9b4"
   },
   "outputs": [
    {
     "data": {
      "text/plain": [
       "array([[43049.36 ],\n",
       "       [43097.477],\n",
       "       [43143.28 ],\n",
       "       ...,\n",
       "       [16615.504],\n",
       "       [16620.387],\n",
       "       [16630.662]], dtype=float32)"
      ]
     },
     "execution_count": 28,
     "metadata": {},
     "output_type": "execute_result"
    }
   ],
   "source": [
    "predictions = scaler.inverse_transform(predictions)\n",
    "predictions"
   ]
  },
  {
   "cell_type": "code",
   "execution_count": 29,
   "id": "LDhQ4E39RgJY",
   "metadata": {
    "id": "LDhQ4E39RgJY"
   },
   "outputs": [],
   "source": [
    "test_y = scaler.inverse_transform(test_y.reshape(-1,1))"
   ]
  },
  {
   "cell_type": "code",
   "execution_count": 30,
   "id": "vzScIYNPzhzm",
   "metadata": {
    "colab": {
     "base_uri": "https://localhost:8080/",
     "height": 424
    },
    "id": "vzScIYNPzhzm",
    "outputId": "dfdedd3e-86ca-48e6-c4f4-324449da851a"
   },
   "outputs": [
    {
     "data": {
      "text/html": [
       "<div>\n",
       "<style scoped>\n",
       "    .dataframe tbody tr th:only-of-type {\n",
       "        vertical-align: middle;\n",
       "    }\n",
       "\n",
       "    .dataframe tbody tr th {\n",
       "        vertical-align: top;\n",
       "    }\n",
       "\n",
       "    .dataframe thead th {\n",
       "        text-align: right;\n",
       "    }\n",
       "</style>\n",
       "<table border=\"1\" class=\"dataframe\">\n",
       "  <thead>\n",
       "    <tr style=\"text-align: right;\">\n",
       "      <th></th>\n",
       "      <th>Predictions</th>\n",
       "      <th>Actuals</th>\n",
       "    </tr>\n",
       "  </thead>\n",
       "  <tbody>\n",
       "    <tr>\n",
       "      <th>0</th>\n",
       "      <td>43049.359375</td>\n",
       "      <td>43414.330645</td>\n",
       "    </tr>\n",
       "    <tr>\n",
       "      <th>1</th>\n",
       "      <td>43097.476562</td>\n",
       "      <td>43092.000000</td>\n",
       "    </tr>\n",
       "    <tr>\n",
       "      <th>2</th>\n",
       "      <td>43143.281250</td>\n",
       "      <td>43079.000000</td>\n",
       "    </tr>\n",
       "    <tr>\n",
       "      <th>3</th>\n",
       "      <td>43161.808594</td>\n",
       "      <td>42846.000000</td>\n",
       "    </tr>\n",
       "    <tr>\n",
       "      <th>4</th>\n",
       "      <td>43142.277344</td>\n",
       "      <td>43059.000000</td>\n",
       "    </tr>\n",
       "    <tr>\n",
       "      <th>...</th>\n",
       "      <td>...</td>\n",
       "      <td>...</td>\n",
       "    </tr>\n",
       "    <tr>\n",
       "      <th>8040</th>\n",
       "      <td>16602.277344</td>\n",
       "      <td>16715.000000</td>\n",
       "    </tr>\n",
       "    <tr>\n",
       "      <th>8041</th>\n",
       "      <td>16607.480469</td>\n",
       "      <td>16729.000000</td>\n",
       "    </tr>\n",
       "    <tr>\n",
       "      <th>8042</th>\n",
       "      <td>16615.503906</td>\n",
       "      <td>16755.000000</td>\n",
       "    </tr>\n",
       "    <tr>\n",
       "      <th>8043</th>\n",
       "      <td>16620.386719</td>\n",
       "      <td>16793.000000</td>\n",
       "    </tr>\n",
       "    <tr>\n",
       "      <th>8044</th>\n",
       "      <td>16630.662109</td>\n",
       "      <td>16756.000000</td>\n",
       "    </tr>\n",
       "  </tbody>\n",
       "</table>\n",
       "<p>8045 rows × 2 columns</p>\n",
       "</div>"
      ],
      "text/plain": [
       "       Predictions       Actuals\n",
       "0     43049.359375  43414.330645\n",
       "1     43097.476562  43092.000000\n",
       "2     43143.281250  43079.000000\n",
       "3     43161.808594  42846.000000\n",
       "4     43142.277344  43059.000000\n",
       "...            ...           ...\n",
       "8040  16602.277344  16715.000000\n",
       "8041  16607.480469  16729.000000\n",
       "8042  16615.503906  16755.000000\n",
       "8043  16620.386719  16793.000000\n",
       "8044  16630.662109  16756.000000\n",
       "\n",
       "[8045 rows x 2 columns]"
      ]
     },
     "execution_count": 30,
     "metadata": {},
     "output_type": "execute_result"
    }
   ],
   "source": [
    "preds_acts = pd.DataFrame(data={'Predictions':predictions.flatten(), 'Actuals':test_y.flatten()})\n",
    "preds_acts"
   ]
  },
  {
   "cell_type": "markdown",
   "id": "50deb57e",
   "metadata": {},
   "source": [
    "This is our predicted values/output compared to the expected/correct values. Now we will calculate some performance metrics and visualise/plot our prediction."
   ]
  },
  {
   "cell_type": "code",
   "execution_count": 31,
   "id": "0NceKaXyzlh8",
   "metadata": {
    "colab": {
     "base_uri": "https://localhost:8080/"
    },
    "id": "0NceKaXyzlh8",
    "outputId": "861c53b9-1509-41a6-faec-2606a7bc8190"
   },
   "outputs": [
    {
     "name": "stdout",
     "output_type": "stream",
     "text": [
      "Test data RMSE:  366.05874346373776\n",
      "Test data MSE:  133999.00366625056\n",
      "Test data MAE:  241.22170577203423\n"
     ]
    }
   ],
   "source": [
    "\n",
    "#evaluation metrics\n",
    "import math\n",
    "from sklearn.metrics import mean_squared_error, mean_absolute_error\n",
    "\n",
    "print(\"Test data RMSE: \", math.sqrt(mean_squared_error(test_y,predictions)))\n",
    "print(\"Test data MSE: \", mean_squared_error(test_y,predictions))\n",
    "print(\"Test data MAE: \", mean_absolute_error(test_y,predictions))"
   ]
  },
  {
   "cell_type": "markdown",
   "id": "7b898845",
   "metadata": {},
   "source": [
    "RMSE measures the square root of the mean square error of the actual values and estimated values, MAPE estimates the size of the error computed as the relative average of the error.Smaller the values of RMSE and MAPE, better the performance of the model"
   ]
  },
  {
   "cell_type": "code",
   "execution_count": 32,
   "id": "5vzU3KXdbQMM",
   "metadata": {
    "colab": {
     "base_uri": "https://localhost:8080/",
     "height": 374
    },
    "id": "5vzU3KXdbQMM",
    "outputId": "adac241c-a864-4acd-f707-70a3ba1d896b"
   },
   "outputs": [
    {
     "data": {
      "image/png": "[encoded data removed]",
      "text/plain": [
       "<Figure size 2000x600 with 1 Axes>"
      ]
     },
     "metadata": {},
     "output_type": "display_data"
    }
   ],
   "source": [
    "plt.figure(figsize = (20, 6))\n",
    "plt.plot(preds_acts['Predictions'].iloc[7900:8044])\n",
    "plt.plot(preds_acts['Actuals'].iloc[7900:8044])\n",
    "plt.legend(['Predictions', 'Actuals'])\n",
    "plt.show()"
   ]
  },
  {
   "cell_type": "code",
   "execution_count": 33,
   "id": "f9335925",
   "metadata": {},
   "outputs": [
    {
     "data": {
      "image/png": "[encoded data removed]",
      "text/plain": [
       "<Figure size 2000x600 with 1 Axes>"
      ]
     },
     "metadata": {},
     "output_type": "display_data"
    }
   ],
   "source": [
    "plt.figure(figsize = (20, 6))\n",
    "plt.plot(preds_acts['Predictions'])\n",
    "plt.plot(preds_acts['Actuals'])\n",
    "plt.legend(['Predictions', 'Actuals'])\n",
    "plt.show()"
   ]
  },
  {
   "cell_type": "markdown",
   "id": "aec92936",
   "metadata": {},
   "source": [
    "## Timeseries forecast for the next hours close price"
   ]
  },
  {
   "cell_type": "code",
   "execution_count": 34,
   "id": "Fe0vcC4RUls_",
   "metadata": {
    "colab": {
     "base_uri": "https://localhost:8080/"
    },
    "id": "Fe0vcC4RUls_",
    "outputId": "427801f5-0247-41a7-ddef-36630d68cd0e"
   },
   "outputs": [
    {
     "data": {
      "text/plain": [
       "(8045, 7, 1)"
      ]
     },
     "execution_count": 34,
     "metadata": {},
     "output_type": "execute_result"
    }
   ],
   "source": [
    "test_X.shape"
   ]
  },
  {
   "cell_type": "code",
   "execution_count": 35,
   "id": "EFlYekbVUtL5",
   "metadata": {
    "colab": {
     "base_uri": "https://localhost:8080/"
    },
    "id": "EFlYekbVUtL5",
    "outputId": "b1cf4f23-03da-4571-f37d-37b081591f35"
   },
   "outputs": [
    {
     "data": {
      "text/plain": [
       "(7, 7, 1)"
      ]
     },
     "execution_count": 35,
     "metadata": {},
     "output_type": "execute_result"
    }
   ],
   "source": [
    "lookback_period = 7\n",
    "\n",
    "\n",
    "testX_last_7_hours = test_X[test_X.shape[0] - lookback_period :  ]\n",
    "\n",
    "testX_last_7_hours.shape"
   ]
  },
  {
   "cell_type": "markdown",
   "id": "039e1334",
   "metadata": {},
   "source": [
    "we will use the last 7 hours to predict the close price for the next step ahead (next hour). "
   ]
  },
  {
   "cell_type": "code",
   "execution_count": 36,
   "id": "7QcwqqSYU37J",
   "metadata": {
    "colab": {
     "base_uri": "https://localhost:8080/"
    },
    "id": "7QcwqqSYU37J",
    "outputId": "fa332469-7f65-4376-c90d-dda9a2b015df"
   },
   "outputs": [
    {
     "data": {
      "text/plain": [
       "array([[[0.20645483],\n",
       "        [0.20617948],\n",
       "        [0.20576645],\n",
       "        [0.2055064 ],\n",
       "        [0.20625597],\n",
       "        [0.20621007],\n",
       "        [0.20582764]],\n",
       "\n",
       "       [[0.20617948],\n",
       "        [0.20576645],\n",
       "        [0.2055064 ],\n",
       "        [0.20625597],\n",
       "        [0.20621007],\n",
       "        [0.20582764],\n",
       "        [0.20642424]],\n",
       "\n",
       "       [[0.20576645],\n",
       "        [0.2055064 ],\n",
       "        [0.20625597],\n",
       "        [0.20621007],\n",
       "        [0.20582764],\n",
       "        [0.20642424],\n",
       "        [0.20621007]],\n",
       "\n",
       "       [[0.2055064 ],\n",
       "        [0.20625597],\n",
       "        [0.20621007],\n",
       "        [0.20582764],\n",
       "        [0.20642424],\n",
       "        [0.20621007],\n",
       "        [0.20628656]],\n",
       "\n",
       "       [[0.20625597],\n",
       "        [0.20621007],\n",
       "        [0.20582764],\n",
       "        [0.20642424],\n",
       "        [0.20621007],\n",
       "        [0.20628656],\n",
       "        [0.20650072]],\n",
       "\n",
       "       [[0.20621007],\n",
       "        [0.20582764],\n",
       "        [0.20642424],\n",
       "        [0.20621007],\n",
       "        [0.20628656],\n",
       "        [0.20650072],\n",
       "        [0.20689845]],\n",
       "\n",
       "       [[0.20582764],\n",
       "        [0.20642424],\n",
       "        [0.20621007],\n",
       "        [0.20628656],\n",
       "        [0.20650072],\n",
       "        [0.20689845],\n",
       "        [0.20747975]]])"
      ]
     },
     "execution_count": 36,
     "metadata": {},
     "output_type": "execute_result"
    }
   ],
   "source": [
    "testX_last_7_hours"
   ]
  },
  {
   "cell_type": "code",
   "execution_count": 37,
   "id": "KQg9hUGWU9UW",
   "metadata": {
    "colab": {
     "base_uri": "https://localhost:8080/"
    },
    "id": "KQg9hUGWU9UW",
    "outputId": "f99f7c74-beda-409a-b780-4684ac1be11a"
   },
   "outputs": [
    {
     "name": "stdout",
     "output_type": "stream",
     "text": [
      "1/1 [==============================] - 0s 48ms/step\n",
      "Forecast for the next hour [[[16602.045]]]\n"
     ]
    }
   ],
   "source": [
    "predicted_7_hours_forecast_price_test_x = []\n",
    "\n",
    "for i in range(1):  \n",
    "  predicted_forecast_price_test_x = model.predict(testX_last_7_hours[i:i+1])\n",
    "  \n",
    "  predicted_forecast_price_test_x = scaler.inverse_transform(predicted_forecast_price_test_x.reshape(-1, 1))\n",
    " \n",
    "  predicted_7_hours_forecast_price_test_x.append(predicted_forecast_price_test_x)\n",
    "  \n",
    "print(\"Forecast for the next hour\", np.array(predicted_7_hours_forecast_price_test_x)) \n"
   ]
  },
  {
   "cell_type": "code",
   "execution_count": null,
   "id": "84377daa",
   "metadata": {},
   "outputs": [],
   "source": []
  }
 ],
 "metadata": {
  "colab": {
   "provenance": []
  },
  "kernelspec": {
   "display_name": "Python 3 (ipykernel)",
   "language": "python",
   "name": "python3"
  },
  "language_info": {
   "codemirror_mode": {
    "name": "ipython",
    "version": 3
   },
   "file_extension": ".py",
   "mimetype": "text/x-python",
   "name": "python",
   "nbconvert_exporter": "python",
   "pygments_lexer": "ipython3",
   "version": "3.9.15"
  }
 },
 "nbformat": 4,
 "nbformat_minor": 5
}
